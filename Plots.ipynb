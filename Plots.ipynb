{
 "cells": [
  {
   "cell_type": "code",
   "execution_count": 1,
   "metadata": {
    "id": "11c5776c"
   },
   "outputs": [],
   "source": [
    "import numpy as np\n",
    "import matplotlib.pyplot as plt\n",
    "import pandas as pd\n",
    "import time\n",
    "import glob\n",
    "import re"
   ]
  },
  {
   "cell_type": "markdown",
   "metadata": {},
   "source": [
    "# Caminantes Aleatorios"
   ]
  },
  {
   "cell_type": "code",
   "execution_count": null,
   "metadata": {},
   "outputs": [],
   "source": [
    "#Importamos los datos\n",
    "X = np.loadtxt('./Data/DataRW.dat')"
   ]
  },
  {
   "cell_type": "code",
   "execution_count": null,
   "metadata": {},
   "outputs": [],
   "source": [
    "#Graficamos un caminante aleatorio\n",
    "plt.plot(X)\n",
    "plt.xlabel(\"t\", size = 20)\n",
    "plt.ylabel('X(t)', size = 20)\n",
    "plt.xticks(size = 15)\n",
    "plt.yticks(size = 15)\n",
    "plt.show()"
   ]
  },
  {
   "cell_type": "markdown",
   "metadata": {},
   "source": [
    "#Creamos 10 caminantes aletorios y graficamos\n",
    "for i in range(10):\n",
    "    !./RW.out\n",
    "    X = np.loadtxt('DataRW.dat')\n",
    "    plt.plot(X)\n",
    "plt.xlabel(\"t\", size = 20)\n",
    "plt.ylabel('X(t)', size = 20)\n",
    "plt.xticks(size = 15)\n",
    "plt.yticks(size = 15)\n",
    "plt.show()"
   ]
  },
  {
   "cell_type": "markdown",
   "metadata": {},
   "source": [
    "## Datos del ensamble"
   ]
  },
  {
   "cell_type": "code",
   "execution_count": null,
   "metadata": {},
   "outputs": [],
   "source": [
    "#Importamos los datos\n",
    "X = np.loadtxt('./Data/DataRW_Ensamble.dat')\n",
    "val, freq = np.unique(X,return_counts = True)"
   ]
  },
  {
   "cell_type": "code",
   "execution_count": null,
   "metadata": {},
   "outputs": [],
   "source": [
    "plt.plot(val,freq)\n",
    "plt.xlabel(\"X(t = 100)\", size = 20)\n",
    "plt.ylabel('Frecuencia', size = 20)\n",
    "plt.xticks(size = 15)\n",
    "plt.yticks(size = 15)\n",
    "plt.show()"
   ]
  },
  {
   "cell_type": "markdown",
   "metadata": {},
   "source": [
    "# Tiempo Medio de Primer Paso $T_{0 \\rightarrow 1}$"
   ]
  },
  {
   "cell_type": "code",
   "execution_count": null,
   "metadata": {},
   "outputs": [],
   "source": [
    "#Importamos los datos\n",
    "X = np.loadtxt(r'./Data/T 0-_ 1.dat')"
   ]
  },
  {
   "cell_type": "code",
   "execution_count": null,
   "metadata": {},
   "outputs": [],
   "source": [
    "probabilidad = pd.DataFrame(X).groupby(0).mean().index\n",
    "tiempo_promedio = pd.DataFrame(X).groupby(0).mean()[1]"
   ]
  },
  {
   "cell_type": "code",
   "execution_count": null,
   "metadata": {},
   "outputs": [],
   "source": [
    "#Comparacion de probabilidad con la teoria \n",
    "plt.loglog(probabilidad, tiempo_promedio, 'ro')\n",
    "plt.loglog(probabilidad, 1/probabilidad, 'k-')\n",
    "plt.xlabel(\"Probabilidad\", size = 20)\n",
    "plt.ylabel(r'$ \\langle T_{0 \\rightarrow 1} \\rangle $', size = 20)\n",
    "plt.xticks(size = 20)\n",
    "plt.yticks(size = 20)\n",
    "plt.show()"
   ]
  },
  {
   "cell_type": "code",
   "execution_count": null,
   "metadata": {},
   "outputs": [],
   "source": [
    "#Comparacion de probabilidad con la teoria \n",
    "plt.plot(probabilidad, tiempo_promedio, 'ro')\n",
    "plt.plot(probabilidad, 1/probabilidad, 'k-')\n",
    "plt.xlabel(\"Probabilidad\", size = 20)\n",
    "plt.ylabel(r'$ \\langle T_{0 \\rightarrow 1} \\rangle $', size = 20)\n",
    "plt.xticks(size = 20)\n",
    "plt.yticks(size = 20)\n",
    "plt.show()"
   ]
  },
  {
   "cell_type": "code",
   "execution_count": null,
   "metadata": {},
   "outputs": [],
   "source": [
    "#Ahora haremos un histograma de cada p\n",
    "X = pd.DataFrame(X)\n",
    "probs = X[0].unique()"
   ]
  },
  {
   "cell_type": "code",
   "execution_count": null,
   "metadata": {},
   "outputs": [],
   "source": [
    "#Probabilidad para p\n",
    "for i in probs:\n",
    "    tiempo_medio = X[X[0] == i][1].value_counts().index\n",
    "    frecuencia = X[X[0] == i][1].value_counts().values\n",
    "    plt.semilogy(tiempo_medio, frecuencia/sum(frecuencia), '.', label = i)\n",
    "    plt.semilogy(tiempo_medio, np.exp(-i*tiempo_medio)/np.sum(np.exp(-i*tiempo_medio)))\n",
    "plt.xticks(size = 20)\n",
    "plt.yticks(size = 20)\n",
    "plt.xlabel(r\"$T_{0 \\to 1}$\", size = 20)\n",
    "plt.ylabel(r'$f(T_{0 \\to 1})$', size = 20)\n",
    "#plt.legend()\n",
    "#plt.set( ylim=(-100, 100))\n",
    "plt.show()"
   ]
  },
  {
   "cell_type": "markdown",
   "metadata": {},
   "source": [
    "# Tiempo Medio de Primer Retorno $T_{0 \\rightarrow 0}$"
   ]
  },
  {
   "cell_type": "code",
   "execution_count": null,
   "metadata": {},
   "outputs": [],
   "source": [
    "#Importamos los datos\n",
    "X = np.loadtxt(r'./Data/T00.dat')"
   ]
  },
  {
   "cell_type": "code",
   "execution_count": null,
   "metadata": {},
   "outputs": [],
   "source": [
    "probabilidad = pd.DataFrame(X).groupby(0).mean().index\n",
    "tiempo_promedio = pd.DataFrame(X).groupby(0).mean()[1]"
   ]
  },
  {
   "cell_type": "code",
   "execution_count": null,
   "metadata": {},
   "outputs": [],
   "source": [
    "#Comparacion de probabilidad con la teoria \n",
    "plt.plot(probabilidad, tiempo_promedio, 'ro')\n",
    "plt.plot(probabilidad, (probabilidad + 0.3)/0.3, 'k-')\n",
    "plt.xticks(size = 20)\n",
    "plt.yticks(size = 20)\n",
    "plt.xlabel(\"Probabilidad (P), q = 0.3\", size = 20)\n",
    "plt.ylabel(r'$ \\langle T_{0 \\to 0} \\rangle $', size = 20)\n",
    "plt.show()"
   ]
  },
  {
   "cell_type": "code",
   "execution_count": null,
   "metadata": {},
   "outputs": [],
   "source": [
    "#Ahora haremos un histograma de cada p\n",
    "X = pd.DataFrame(X)\n",
    "probs = X[0].unique()"
   ]
  },
  {
   "cell_type": "code",
   "execution_count": null,
   "metadata": {},
   "outputs": [],
   "source": [
    "#Probabilidad para p\n",
    "for i in probs:\n",
    "    tiempo_medio = X[X[0] == i][1].value_counts().index\n",
    "    frecuencia = X[X[0] == i][1].value_counts().values\n",
    "    plt.loglog(tiempo_medio, frecuencia/sum(frecuencia), '.', label = i)\n",
    "    #plt.plot(tiempo_medio, np.exp(-i*tiempo_medio)/np.sum(np.exp(-i*tiempo_medio)))\n",
    "plt.xticks(size = 20)\n",
    "plt.yticks(size = 20)\n",
    "plt.xlabel(r\"$T_{0 \\to 0}$\", size = 20)\n",
    "plt.ylabel(r'$f(T_{0 \\to 0})$', size = 20)\n",
    "#plt.legend()\n",
    "#plt.set( ylim=(-100, 100))\n",
    "plt.show()"
   ]
  },
  {
   "cell_type": "markdown",
   "metadata": {},
   "source": [
    "# Caminante Aleatorio anillo"
   ]
  },
  {
   "cell_type": "code",
   "execution_count": null,
   "metadata": {},
   "outputs": [],
   "source": [
    "DF = pd.DataFrame()"
   ]
  },
  {
   "cell_type": "code",
   "execution_count": null,
   "metadata": {
    "id": "a1f28ba3"
   },
   "outputs": [],
   "source": [
    "#Leemos los DataFrames\n",
    "for i in glob.glob('./Data/Anillo/*.dat'):\n",
    "    data = pd.read_csv(i)\n",
    "    data['Node'] = int(re.findall(r'\\d+',i)[0])\n",
    "    DF =  pd.concat([DF,data],ignore_index=True)"
   ]
  },
  {
   "cell_type": "code",
   "execution_count": null,
   "metadata": {},
   "outputs": [],
   "source": [
    "#Separamos nodos y tiempo\n",
    "nodes = DF.groupby('Node').mean().sort_index().index\n",
    "times = DF.groupby('Node').mean().sort_index().values"
   ]
  },
  {
   "cell_type": "code",
   "execution_count": null,
   "metadata": {},
   "outputs": [],
   "source": [
    "#Graficamos Nodes contra tiempos promedios\n",
    "plt.plot(nodes,times,'k.')\n",
    "plt.ylabel(r'$ \\langle T_{ij} \\rangle $', size = 20)\n",
    "plt.xlabel(r'# Node', size = 20)\n",
    "plt.xticks()\n",
    "plt.yticks()\n",
    "plt.savefig(\"./images/t_ring.png\")\n",
    "plt.show()"
   ]
  },
  {
   "cell_type": "code",
   "execution_count": null,
   "metadata": {},
   "outputs": [],
   "source": [
    "#Graficamos la distribucion al nodo 1\n",
    "df = DF[DF.Node == 1].TIME.value_counts()\n",
    "tiempo_medio = df.index\n",
    "frecuencia = df.values\n",
    "plt.loglog(tiempo_medio,frecuencia,'.')\n",
    "plt.xticks(size = 20)\n",
    "plt.yticks(size = 20)\n",
    "plt.ylabel('Frecuencia')\n",
    "plt.xlabel('<T>')"
   ]
  },
  {
   "cell_type": "code",
   "execution_count": null,
   "metadata": {},
   "outputs": [],
   "source": [
    "#Graficamos las distribuciones\n",
    "for i in DF.Node.unique():\n",
    "    df = DF[DF.Node == i].TIME.value_counts()\n",
    "    tiempo_medio = df.index\n",
    "    frecuencia = df.values\n",
    "    plt.loglog(tiempo_medio,frecuencia,'.')\n",
    "plt.ylabel('Frecuencia')\n",
    "plt.xlabel('<T>')\n",
    "plt.savefig(\"./images/distribution_ring.png\")"
   ]
  },
  {
   "cell_type": "markdown",
   "metadata": {},
   "source": [
    "# Caminante Aletorio Red 1\n",
    "## $W_{i \\to j} = \\frac{A_{ij}}{k_i}$"
   ]
  },
  {
   "cell_type": "code",
   "execution_count": 2,
   "metadata": {},
   "outputs": [],
   "source": [
    "df = pd.read_csv(\".\\Data\\Random Walk Network 1\\Visited.dat\")"
   ]
  },
  {
   "cell_type": "code",
   "execution_count": 3,
   "metadata": {},
   "outputs": [],
   "source": [
    "vals = df.index\n",
    "values = df['Visited']"
   ]
  },
  {
   "cell_type": "code",
   "execution_count": 8,
   "metadata": {},
   "outputs": [
    {
     "data": {
      "image/png": "[encoded data removed]",
      "text/plain": [
       "<Figure size 432x288 with 1 Axes>"
      ]
     },
     "metadata": {
      "needs_background": "light"
     },
     "output_type": "display_data"
    }
   ],
   "source": [
    "#Graficamos la distribucion de lugares visitados\n",
    "plt.plot(vals,values/sum(values))\n",
    "#plt.xticks(size = 20)\n",
    "#plt.yticks(size = 20)\n",
    "plt.ylabel('F(node)')\n",
    "plt.xlabel('Node')\n",
    "plt.savefig(\"./images/nodes.png\")\n",
    "plt.show()"
   ]
  },
  {
   "cell_type": "code",
   "execution_count": 9,
   "metadata": {},
   "outputs": [],
   "source": [
    "#Cargamos la matris\n",
    "matA = np.loadtxt(\".\\Data\\Random Walk Network 1\\matA.dat\")"
   ]
  },
  {
   "cell_type": "code",
   "execution_count": 10,
   "metadata": {},
   "outputs": [],
   "source": [
    "Degrees = sum(matA)"
   ]
  },
  {
   "cell_type": "markdown",
   "metadata": {},
   "source": [
    "Distribucion estacionaria\n",
    "$P^{\\infty}_j = \\frac{K_j}{\\sum_{l=1}^N K_l}$"
   ]
  },
  {
   "cell_type": "code",
   "execution_count": 12,
   "metadata": {},
   "outputs": [
    {
     "data": {
      "image/png": "[encoded data removed]",
      "text/plain": [
       "<Figure size 432x288 with 1 Axes>"
      ]
     },
     "metadata": {
      "needs_background": "light"
     },
     "output_type": "display_data"
    }
   ],
   "source": [
    "plt.plot(Degrees/sum(Degrees), label = 'Theoric')\n",
    "plt.plot(vals,values/sum(values), label = 'Simulation')\n",
    "#plt.xticks(size = 20)\n",
    "#plt.yticks(size = 20)\n",
    "plt.ylabel('F(node)')\n",
    "plt.xlabel('Node')\n",
    "plt.legend()\n",
    "plt.savefig(\"./images/distribucion_estacionaria.png\")\n",
    "plt.show()"
   ]
  },
  {
   "cell_type": "code",
   "execution_count": 18,
   "metadata": {},
   "outputs": [
    {
     "data": {
      "image/png": "[encoded data removed]",
      "text/plain": [
       "<Figure size 432x288 with 1 Axes>"
      ]
     },
     "metadata": {
      "needs_background": "light"
     },
     "output_type": "display_data"
    }
   ],
   "source": [
    "plt.plot(Degrees,values/sum(values),'.')\n",
    "plt.xlabel(r\"$K_i$\")\n",
    "plt.ylabel(r\"$P_i^{\\infty}(MC)$\")\n",
    "plt.savefig(\"./images/dist_ki.png\")\n",
    "plt.show()"
   ]
  },
  {
   "cell_type": "markdown",
   "metadata": {},
   "source": [
    "# FRT Red"
   ]
  },
  {
   "cell_type": "code",
   "execution_count": 19,
   "metadata": {},
   "outputs": [],
   "source": [
    "DF = pd.DataFrame()\n",
    "for archivo in glob.glob(\"./Data/FRT/*.dat\"):\n",
    "    df_ = pd.read_csv(archivo, sep = \" \")\n",
    "    DF =  pd.concat([DF,df_], ignore_index = True)"
   ]
  },
  {
   "cell_type": "code",
   "execution_count": 21,
   "metadata": {},
   "outputs": [],
   "source": [
    "nodo = DF.groupby('Nodo').mean().index\n",
    "tiempo_medio = DF.groupby('Nodo').mean().values\n",
    "distribucion_estacionaria = values/sum(values)"
   ]
  },
  {
   "cell_type": "code",
   "execution_count": 23,
   "metadata": {},
   "outputs": [
    {
     "data": {
      "image/png": "[encoded data removed]",
      "text/plain": [
       "<Figure size 720x720 with 1 Axes>"
      ]
     },
     "metadata": {
      "needs_background": "light"
     },
     "output_type": "display_data"
    }
   ],
   "source": [
    "plt.rcParams[\"figure.figsize\"] = (10,10)\n",
    "plt.plot(1/distribucion_estacionaria,tiempo_medio,'.')\n",
    "\n",
    "plt.ylabel(r\"$ \\langle T_{i \\to i} \\rangle$\", size = 20)\n",
    "plt.xlabel(r\"$\\frac{1}{P_i^{\\infty}}$\", size = 20)\n",
    "plt.savefig(\"./images/FRT_RED.png\")\n",
    "plt.show()"
   ]
  },
  {
   "cell_type": "code",
   "execution_count": null,
   "metadata": {},
   "outputs": [],
   "source": []
  },
  {
   "cell_type": "code",
   "execution_count": 16,
   "metadata": {},
   "outputs": [
    {
     "data": {
      "text/plain": [
       "100"
      ]
     },
     "execution_count": 16,
     "metadata": {},
     "output_type": "execute_result"
    }
   ],
   "source": [
    "len(Degrees)"
   ]
  },
  {
   "cell_type": "code",
   "execution_count": null,
   "metadata": {},
   "outputs": [],
   "source": []
  }
 ],
 "metadata": {
  "colab": {
   "provenance": []
  },
  "kernelspec": {
   "display_name": "Python 3",
   "language": "python",
   "name": "python3"
  },
  "language_info": {
   "codemirror_mode": {
    "name": "ipython",
    "version": 3
   },
   "file_extension": ".py",
   "mimetype": "text/x-python",
   "name": "python",
   "nbconvert_exporter": "python",
   "pygments_lexer": "ipython3",
   "version": "3.7.6"
  }
 },
 "nbformat": 4,
 "nbformat_minor": 5
}
